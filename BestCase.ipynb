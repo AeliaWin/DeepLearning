{
  "nbformat": 4,
  "nbformat_minor": 0,
  "metadata": {
    "colab": {
      "provenance": [],
      "gpuType": "V28"
    },
    "kernelspec": {
      "name": "python3",
      "display_name": "Python 3"
    },
    "language_info": {
      "name": "python"
    },
    "accelerator": "TPU"
  },
  "cells": [
    {
      "cell_type": "code",
      "source": [
        "def time_shift(audio_data, shift_max=0.2):\n",
        "  shift = np.random.randint(len(audio_data) * shift_max)\n",
        "  return np.roll(audio_data, shift)\n",
        "\n",
        "def change_volume(audio_data, gain_factor=1.5):\n",
        "  return audio_data * gain_factor\n",
        "\n",
        "def add_noise(audio_data, noise_factor=0.005):\n",
        "  noise = np.random.randn(len(audio_data))\n",
        "  augmented_audio = audio_data + noise_factor * noise\n",
        "  return augmented_audio\n",
        "\n",
        "def pitch_shift(audio_data, sample_rate, n_steps=2):\n",
        "  return librosa.effects.pitch_shift(audio_data, sr=sample_rate, n_steps=n_steps)\n"
      ],
      "metadata": {
        "id": "NvilHygbHBca"
      },
      "execution_count": null,
      "outputs": []
    },
    {
      "cell_type": "code",
      "source": [
        "def augment_audio(audio_data, sample_rate):\n",
        "    if np.random.rand() < 0.5:\n",
        "        audio_data = pitch_shift(audio_data, sample_rate, n_steps=np.random.randint(-5, 5))\n",
        "    if np.random.rand() < 0.5:\n",
        "        audio_data = add_noise(audio_data, noise_factor=np.random.uniform(0.001, 0.01))\n",
        "    if np.random.rand() < 0.5:\n",
        "        audio_data = change_volume(audio_data, gain_factor=np.random.uniform(0.7, 1.3))\n",
        "    if np.random.rand() < 0.5:\n",
        "        audio_data = time_shift(audio_data, shift_max=0.2)\n",
        "    return audio_data\n"
      ],
      "metadata": {
        "id": "FU3YPlTOG9Vo"
      },
      "execution_count": null,
      "outputs": []
    },
    {
      "cell_type": "code",
      "source": [
        "def preprocess_data(source_path, json_path, num_mfcc=13, n_fft=2048, hop_length=512, num_segments=5,augment=True):\n",
        "    data = {\n",
        "        \"mapping\":[],\n",
        "        \"labels\": [],\n",
        "        \"mfcc\": [],\n",
        "        }\n",
        "\n",
        "    samples_per_segment = int(SAMPLES_PER_TRACK/num_segments)\n",
        "\n",
        "    num_mfcc_vectors_per_segment = math.ceil(samples_per_segment/hop_length)\n",
        "\n",
        "\n",
        "    # Let's browse each file, slice it and generate the 13 band mfcc for each slice.\n",
        "    for i, (dirpath, dirnames, filenames) in enumerate(os.walk(source_path)):\n",
        "      for file in filenames:\n",
        "        if os.path.join(dirpath,file) != '/content/drive/MyDrive/Data/genres_original/jazz/jazz.00054.wav':\n",
        "          file_path = os.path.join(dirpath,file)\n",
        "          signal,sample_rate = librosa.load(file_path,sr=SAMPLE_RATE)\n",
        "\n",
        "          if augment:\n",
        "            signal = augment_audio(signal,sample_rate)\n",
        "\n",
        "          for d in range(num_segments):\n",
        "            start = samples_per_segment * d\n",
        "            finish = start + samples_per_segment\n",
        "\n",
        "            mfcc = librosa.feature.mfcc(y=signal[start:finish],sr=sample_rate,n_mfcc=num_mfcc,n_fft=n_fft,hop_length=hop_length)\n",
        "            mfcc = mfcc.T\n",
        "\n",
        "            if len(mfcc) == num_mfcc_vectors_per_segment:\n",
        "              data[\"mfcc\"].append(mfcc.tolist())\n",
        "              data[\"labels\"].append(i-1)\n",
        "\n",
        "    # Let's write the dictionary in a json file.\n",
        "    with open(json_path, 'w') as f:\n",
        "        json.dump(data, f)\n",
        "    f.close()"
      ],
      "metadata": {
        "id": "1vPH9gvtGukd"
      },
      "execution_count": null,
      "outputs": []
    },
    {
      "cell_type": "code",
      "execution_count": null,
      "metadata": {
        "colab": {
          "base_uri": "https://localhost:8080/"
        },
        "id": "6j7m61A1aoVD",
        "outputId": "6bda98e9-fdf4-4511-8976-685ebc2029a2"
      },
      "outputs": [
        {
          "output_type": "stream",
          "name": "stdout",
          "text": [
            "Mounted at /content/drive\n",
            "Model: \"sequential\"\n",
            "_________________________________________________________________\n",
            " Layer (type)                Output Shape              Param #   \n",
            "=================================================================\n",
            " conv2d (Conv2D)             (None, 128, 11, 128)      1280      \n",
            "                                                                 \n",
            " max_pooling2d (MaxPooling2  (None, 64, 6, 128)        0         \n",
            " D)                                                              \n",
            "                                                                 \n",
            " batch_normalization (Batch  (None, 64, 6, 128)        512       \n",
            " Normalization)                                                  \n",
            "                                                                 \n",
            " dropout (Dropout)           (None, 64, 6, 128)        0         \n",
            "                                                                 \n",
            " conv2d_1 (Conv2D)           (None, 62, 4, 256)        295168    \n",
            "                                                                 \n",
            " max_pooling2d_1 (MaxPoolin  (None, 31, 2, 256)        0         \n",
            " g2D)                                                            \n",
            "                                                                 \n",
            " batch_normalization_1 (Bat  (None, 31, 2, 256)        1024      \n",
            " chNormalization)                                                \n",
            "                                                                 \n",
            " dropout_1 (Dropout)         (None, 31, 2, 256)        0         \n",
            "                                                                 \n",
            " conv2d_2 (Conv2D)           (None, 30, 1, 256)        262400    \n",
            "                                                                 \n",
            " max_pooling2d_2 (MaxPoolin  (None, 15, 1, 256)        0         \n",
            " g2D)                                                            \n",
            "                                                                 \n",
            " batch_normalization_2 (Bat  (None, 15, 1, 256)        1024      \n",
            " chNormalization)                                                \n",
            "                                                                 \n",
            " dropout_2 (Dropout)         (None, 15, 1, 256)        0         \n",
            "                                                                 \n",
            " flatten (Flatten)           (None, 3840)              0         \n",
            "                                                                 \n",
            " dense (Dense)               (None, 512)               1966592   \n",
            "                                                                 \n",
            " dropout_3 (Dropout)         (None, 512)               0         \n",
            "                                                                 \n",
            " dense_1 (Dense)             (None, 10)                5130      \n",
            "                                                                 \n",
            "=================================================================\n",
            "Total params: 2533130 (9.66 MB)\n",
            "Trainable params: 2531850 (9.66 MB)\n",
            "Non-trainable params: 1280 (5.00 KB)\n",
            "_________________________________________________________________\n",
            "Epoch 1/50\n",
            "187/188 [============================>.] - ETA: 0s - loss: 4.2014 - accuracy: 0.3307"
          ]
        },
        {
          "output_type": "stream",
          "name": "stderr",
          "text": [
            "WARNING:tensorflow:Can save best model only with val_acc available, skipping.\n"
          ]
        },
        {
          "output_type": "stream",
          "name": "stdout",
          "text": [
            "\b\b\b\b\b\b\b\b\b\b\b\b\b\b\b\b\b\b\b\b\b\b\b\b\b\b\b\b\b\b\b\b\b\b\b\b\b\b\b\b\b\b\b\b\b\b\b\b\b\b\b\b\b\b\b\b\b\b\b\b\b\b\b\b\b\b\b\b\b\b\b\b\b\b\b\b\b\b\b\b\b\b\b\b\r188/188 [==============================] - 11s 53ms/step - loss: 4.2039 - accuracy: 0.3307 - val_loss: 4.4906 - val_accuracy: 0.3416 - lr: 0.0010\n",
            "Epoch 2/50\n",
            "187/188 [============================>.] - ETA: 0s - loss: 3.1916 - accuracy: 0.4153"
          ]
        },
        {
          "output_type": "stream",
          "name": "stderr",
          "text": [
            "WARNING:tensorflow:Can save best model only with val_acc available, skipping.\n"
          ]
        },
        {
          "output_type": "stream",
          "name": "stdout",
          "text": [
            "\b\b\b\b\b\b\b\b\b\b\b\b\b\b\b\b\b\b\b\b\b\b\b\b\b\b\b\b\b\b\b\b\b\b\b\b\b\b\b\b\b\b\b\b\b\b\b\b\b\b\b\b\b\b\b\b\b\b\b\b\b\b\b\b\b\b\b\b\b\b\b\b\b\b\b\b\b\b\b\b\b\b\b\b\r188/188 [==============================] - 9s 49ms/step - loss: 3.1924 - accuracy: 0.4151 - val_loss: 2.5754 - val_accuracy: 0.4650 - lr: 0.0010\n",
            "Epoch 3/50\n",
            "188/188 [==============================] - ETA: 0s - loss: 2.4595 - accuracy: 0.4861"
          ]
        },
        {
          "output_type": "stream",
          "name": "stderr",
          "text": [
            "WARNING:tensorflow:Can save best model only with val_acc available, skipping.\n"
          ]
        },
        {
          "output_type": "stream",
          "name": "stdout",
          "text": [
            "\b\b\b\b\b\b\b\b\b\b\b\b\b\b\b\b\b\b\b\b\b\b\b\b\b\b\b\b\b\b\b\b\b\b\b\b\b\b\b\b\b\b\b\b\b\b\b\b\b\b\b\b\b\b\b\b\b\b\b\b\b\b\b\b\b\b\b\b\b\b\b\b\b\b\b\b\b\b\b\b\b\b\b\b\r188/188 [==============================] - 9s 50ms/step - loss: 2.4595 - accuracy: 0.4861 - val_loss: 2.2391 - val_accuracy: 0.5222 - lr: 0.0010\n",
            "Epoch 4/50\n",
            "188/188 [==============================] - ETA: 0s - loss: 2.1986 - accuracy: 0.5440"
          ]
        },
        {
          "output_type": "stream",
          "name": "stderr",
          "text": [
            "WARNING:tensorflow:Can save best model only with val_acc available, skipping.\n"
          ]
        },
        {
          "output_type": "stream",
          "name": "stdout",
          "text": [
            "\b\b\b\b\b\b\b\b\b\b\b\b\b\b\b\b\b\b\b\b\b\b\b\b\b\b\b\b\b\b\b\b\b\b\b\b\b\b\b\b\b\b\b\b\b\b\b\b\b\b\b\b\b\b\b\b\b\b\b\b\b\b\b\b\b\b\b\b\b\b\b\b\b\b\b\b\b\b\b\b\b\b\b\b\r188/188 [==============================] - 9s 49ms/step - loss: 2.1986 - accuracy: 0.5440 - val_loss: 2.1019 - val_accuracy: 0.5747 - lr: 0.0010\n",
            "Epoch 5/50\n",
            "187/188 [============================>.] - ETA: 0s - loss: 2.0403 - accuracy: 0.5834"
          ]
        },
        {
          "output_type": "stream",
          "name": "stderr",
          "text": [
            "WARNING:tensorflow:Can save best model only with val_acc available, skipping.\n"
          ]
        },
        {
          "output_type": "stream",
          "name": "stdout",
          "text": [
            "\b\b\b\b\b\b\b\b\b\b\b\b\b\b\b\b\b\b\b\b\b\b\b\b\b\b\b\b\b\b\b\b\b\b\b\b\b\b\b\b\b\b\b\b\b\b\b\b\b\b\b\b\b\b\b\b\b\b\b\b\b\b\b\b\b\b\b\b\b\b\b\b\b\b\b\b\b\b\b\b\b\b\b\b\r188/188 [==============================] - 9s 50ms/step - loss: 2.0396 - accuracy: 0.5835 - val_loss: 2.0804 - val_accuracy: 0.5755 - lr: 0.0010\n",
            "Epoch 6/50\n",
            "188/188 [==============================] - ETA: 0s - loss: 1.9438 - accuracy: 0.6198"
          ]
        },
        {
          "output_type": "stream",
          "name": "stderr",
          "text": [
            "WARNING:tensorflow:Can save best model only with val_acc available, skipping.\n"
          ]
        },
        {
          "output_type": "stream",
          "name": "stdout",
          "text": [
            "\b\b\b\b\b\b\b\b\b\b\b\b\b\b\b\b\b\b\b\b\b\b\b\b\b\b\b\b\b\b\b\b\b\b\b\b\b\b\b\b\b\b\b\b\b\b\b\b\b\b\b\b\b\b\b\b\b\b\b\b\b\b\b\b\b\b\b\b\b\b\b\b\b\b\b\b\b\b\b\b\b\b\b\b\r188/188 [==============================] - 9s 49ms/step - loss: 1.9438 - accuracy: 0.6198 - val_loss: 1.8866 - val_accuracy: 0.6348 - lr: 0.0010\n",
            "Epoch 7/50\n",
            "188/188 [==============================] - ETA: 0s - loss: 1.8638 - accuracy: 0.6421"
          ]
        },
        {
          "output_type": "stream",
          "name": "stderr",
          "text": [
            "WARNING:tensorflow:Can save best model only with val_acc available, skipping.\n"
          ]
        },
        {
          "output_type": "stream",
          "name": "stdout",
          "text": [
            "\b\b\b\b\b\b\b\b\b\b\b\b\b\b\b\b\b\b\b\b\b\b\b\b\b\b\b\b\b\b\b\b\b\b\b\b\b\b\b\b\b\b\b\b\b\b\b\b\b\b\b\b\b\b\b\b\b\b\b\b\b\b\b\b\b\b\b\b\b\b\b\b\b\b\b\b\b\b\b\b\b\b\b\b\r188/188 [==============================] - 9s 49ms/step - loss: 1.8638 - accuracy: 0.6421 - val_loss: 2.0458 - val_accuracy: 0.5715 - lr: 0.0010\n",
            "Epoch 8/50\n",
            "188/188 [==============================] - ETA: 0s - loss: 1.8103 - accuracy: 0.6675"
          ]
        },
        {
          "output_type": "stream",
          "name": "stderr",
          "text": [
            "WARNING:tensorflow:Can save best model only with val_acc available, skipping.\n"
          ]
        },
        {
          "output_type": "stream",
          "name": "stdout",
          "text": [
            "\b\b\b\b\b\b\b\b\b\b\b\b\b\b\b\b\b\b\b\b\b\b\b\b\b\b\b\b\b\b\b\b\b\b\b\b\b\b\b\b\b\b\b\b\b\b\b\b\b\b\b\b\b\b\b\b\b\b\b\b\b\b\b\b\b\b\b\b\b\b\b\b\b\b\b\b\b\b\b\b\b\b\b\b\r188/188 [==============================] - 9s 49ms/step - loss: 1.8103 - accuracy: 0.6675 - val_loss: 1.9409 - val_accuracy: 0.6223 - lr: 0.0010\n",
            "Epoch 9/50\n",
            "187/188 [============================>.] - ETA: 0s - loss: 1.7432 - accuracy: 0.6867"
          ]
        },
        {
          "output_type": "stream",
          "name": "stderr",
          "text": [
            "WARNING:tensorflow:Can save best model only with val_acc available, skipping.\n"
          ]
        },
        {
          "output_type": "stream",
          "name": "stdout",
          "text": [
            "\b\b\b\b\b\b\b\b\b\b\b\b\b\b\b\b\b\b\b\b\b\b\b\b\b\b\b\b\b\b\b\b\b\b\b\b\b\b\b\b\b\b\b\b\b\b\b\b\b\b\b\b\b\b\b\b\b\b\b\b\b\b\b\b\b\b\b\b\b\b\b\b\b\b\b\b\b\b\b\b\b\b\b\b\r188/188 [==============================] - 9s 50ms/step - loss: 1.7432 - accuracy: 0.6869 - val_loss: 1.9192 - val_accuracy: 0.6280 - lr: 0.0010\n",
            "Epoch 10/50\n",
            "187/188 [============================>.] - ETA: 0s - loss: 1.7213 - accuracy: 0.6962"
          ]
        },
        {
          "output_type": "stream",
          "name": "stderr",
          "text": [
            "WARNING:tensorflow:Can save best model only with val_acc available, skipping.\n"
          ]
        },
        {
          "output_type": "stream",
          "name": "stdout",
          "text": [
            "\b\b\b\b\b\b\b\b\b\b\b\b\b\b\b\b\b\b\b\b\b\b\b\b\b\b\b\b\b\b\b\b\b\b\b\b\b\b\b\b\b\b\b\b\b\b\b\b\b\b\b\b\b\b\b\b\b\b\b\b\b\b\b\b\b\b\b\b\b\b\b\b\b\b\b\b\b\b\b\b\b\b\b\b\r188/188 [==============================] - 9s 49ms/step - loss: 1.7219 - accuracy: 0.6959 - val_loss: 1.8426 - val_accuracy: 0.6528 - lr: 0.0010\n",
            "Epoch 11/50\n",
            "188/188 [==============================] - ETA: 0s - loss: 1.6882 - accuracy: 0.7056"
          ]
        },
        {
          "output_type": "stream",
          "name": "stderr",
          "text": [
            "WARNING:tensorflow:Can save best model only with val_acc available, skipping.\n"
          ]
        },
        {
          "output_type": "stream",
          "name": "stdout",
          "text": [
            "\b\b\b\b\b\b\b\b\b\b\b\b\b\b\b\b\b\b\b\b\b\b\b\b\b\b\b\b\b\b\b\b\b\b\b\b\b\b\b\b\b\b\b\b\b\b\b\b\b\b\b\b\b\b\b\b\b\b\b\b\b\b\b\b\b\b\b\b\b\b\b\b\b\b\b\b\b\b\b\b\b\b\b\b\r188/188 [==============================] - 9s 49ms/step - loss: 1.6882 - accuracy: 0.7056 - val_loss: 1.7779 - val_accuracy: 0.6892 - lr: 0.0010\n",
            "Epoch 12/50\n",
            "187/188 [============================>.] - ETA: 0s - loss: 1.6494 - accuracy: 0.7261"
          ]
        },
        {
          "output_type": "stream",
          "name": "stderr",
          "text": [
            "WARNING:tensorflow:Can save best model only with val_acc available, skipping.\n"
          ]
        },
        {
          "output_type": "stream",
          "name": "stdout",
          "text": [
            "\b\b\b\b\b\b\b\b\b\b\b\b\b\b\b\b\b\b\b\b\b\b\b\b\b\b\b\b\b\b\b\b\b\b\b\b\b\b\b\b\b\b\b\b\b\b\b\b\b\b\b\b\b\b\b\b\b\b\b\b\b\b\b\b\b\b\b\b\b\b\b\b\b\b\b\b\b\b\b\b\b\b\b\b\r188/188 [==============================] - 9s 50ms/step - loss: 1.6498 - accuracy: 0.7261 - val_loss: 1.8451 - val_accuracy: 0.6688 - lr: 0.0010\n",
            "Epoch 13/50\n",
            "187/188 [============================>.] - ETA: 0s - loss: 1.6355 - accuracy: 0.7398"
          ]
        },
        {
          "output_type": "stream",
          "name": "stderr",
          "text": [
            "WARNING:tensorflow:Can save best model only with val_acc available, skipping.\n"
          ]
        },
        {
          "output_type": "stream",
          "name": "stdout",
          "text": [
            "\b\b\b\b\b\b\b\b\b\b\b\b\b\b\b\b\b\b\b\b\b\b\b\b\b\b\b\b\b\b\b\b\b\b\b\b\b\b\b\b\b\b\b\b\b\b\b\b\b\b\b\b\b\b\b\b\b\b\b\b\b\b\b\b\b\b\b\b\b\b\b\b\b\b\b\b\b\b\b\b\b\b\b\b\r188/188 [==============================] - 9s 50ms/step - loss: 1.6373 - accuracy: 0.7393 - val_loss: 1.9050 - val_accuracy: 0.6664 - lr: 0.0010\n",
            "Epoch 14/50\n",
            "187/188 [============================>.] - ETA: 0s - loss: 1.6551 - accuracy: 0.7375"
          ]
        },
        {
          "output_type": "stream",
          "name": "stderr",
          "text": [
            "WARNING:tensorflow:Can save best model only with val_acc available, skipping.\n"
          ]
        },
        {
          "output_type": "stream",
          "name": "stdout",
          "text": [
            "\b\b\b\b\b\b\b\b\b\b\b\b\b\b\b\b\b\b\b\b\b\b\b\b\b\b\b\b\b\b\b\b\b\b\b\b\b\b\b\b\b\b\b\b\b\b\b\b\b\b\b\b\b\b\b\b\b\b\b\b\b\b\b\b\b\b\b\b\b\b\b\b\b\b\b\b\b\b\b\b\b\b\b\b\r188/188 [==============================] - 9s 50ms/step - loss: 1.6550 - accuracy: 0.7373 - val_loss: 1.8831 - val_accuracy: 0.6680 - lr: 0.0010\n",
            "Epoch 15/50\n",
            "188/188 [==============================] - ETA: 0s - loss: 1.5875 - accuracy: 0.7687"
          ]
        },
        {
          "output_type": "stream",
          "name": "stderr",
          "text": [
            "WARNING:tensorflow:Can save best model only with val_acc available, skipping.\n"
          ]
        },
        {
          "output_type": "stream",
          "name": "stdout",
          "text": [
            "\b\b\b\b\b\b\b\b\b\b\b\b\b\b\b\b\b\b\b\b\b\b\b\b\b\b\b\b\b\b\b\b\b\b\b\b\b\b\b\b\b\b\b\b\b\b\b\b\b\b\b\b\b\b\b\b\b\b\b\b\b\b\b\b\b\b\b\b\b\b\b\b\b\b\b\b\b\b\b\b\b\b\b\b\r188/188 [==============================] - 9s 49ms/step - loss: 1.5875 - accuracy: 0.7687 - val_loss: 1.9517 - val_accuracy: 0.6608 - lr: 0.0010\n",
            "Epoch 16/50\n",
            "187/188 [============================>.] - ETA: 0s - loss: 1.5977 - accuracy: 0.7771"
          ]
        },
        {
          "output_type": "stream",
          "name": "stderr",
          "text": [
            "WARNING:tensorflow:Can save best model only with val_acc available, skipping.\n"
          ]
        },
        {
          "output_type": "stream",
          "name": "stdout",
          "text": [
            "\b\b\b\b\b\b\b\b\b\b\b\b\b\b\b\b\b\b\b\b\b\b\b\b\b\b\b\b\b\b\b\b\b\b\b\b\b\b\b\b\b\b\b\b\b\b\b\b\b\b\b\b\b\b\b\b\b\b\b\b\b\b\b\b\b\b\b\b\b\b\b\b\b\b\b\b\b\b\b\b\b\b\b\b\r188/188 [==============================] - 9s 49ms/step - loss: 1.5984 - accuracy: 0.7768 - val_loss: 1.9021 - val_accuracy: 0.6924 - lr: 0.0010\n",
            "Epoch 17/50\n",
            "188/188 [==============================] - ETA: 0s - loss: 1.4478 - accuracy: 0.8296"
          ]
        },
        {
          "output_type": "stream",
          "name": "stderr",
          "text": [
            "WARNING:tensorflow:Can save best model only with val_acc available, skipping.\n"
          ]
        },
        {
          "output_type": "stream",
          "name": "stdout",
          "text": [
            "\b\b\b\b\b\b\b\b\b\b\b\b\b\b\b\b\b\b\b\b\b\b\b\b\b\b\b\b\b\b\b\b\b\b\b\b\b\b\b\b\b\b\b\b\b\b\b\b\b\b\b\b\b\b\b\b\b\b\b\b\b\b\b\b\b\b\b\b\b\b\b\b\b\b\b\b\b\b\b\b\b\b\b\b\r188/188 [==============================] - 9s 49ms/step - loss: 1.4478 - accuracy: 0.8296 - val_loss: 1.6662 - val_accuracy: 0.7621 - lr: 1.0000e-04\n",
            "Epoch 18/50\n",
            "188/188 [==============================] - ETA: 0s - loss: 1.3420 - accuracy: 0.8660"
          ]
        },
        {
          "output_type": "stream",
          "name": "stderr",
          "text": [
            "WARNING:tensorflow:Can save best model only with val_acc available, skipping.\n"
          ]
        },
        {
          "output_type": "stream",
          "name": "stdout",
          "text": [
            "\b\b\b\b\b\b\b\b\b\b\b\b\b\b\b\b\b\b\b\b\b\b\b\b\b\b\b\b\b\b\b\b\b\b\b\b\b\b\b\b\b\b\b\b\b\b\b\b\b\b\b\b\b\b\b\b\b\b\b\b\b\b\b\b\b\b\b\b\b\b\b\b\b\b\b\b\b\b\b\b\b\b\b\b\r188/188 [==============================] - 9s 50ms/step - loss: 1.3420 - accuracy: 0.8660 - val_loss: 1.6318 - val_accuracy: 0.7717 - lr: 1.0000e-04\n",
            "Epoch 19/50\n",
            "187/188 [============================>.] - ETA: 0s - loss: 1.3008 - accuracy: 0.8700"
          ]
        },
        {
          "output_type": "stream",
          "name": "stderr",
          "text": [
            "WARNING:tensorflow:Can save best model only with val_acc available, skipping.\n"
          ]
        },
        {
          "output_type": "stream",
          "name": "stdout",
          "text": [
            "\b\b\b\b\b\b\b\b\b\b\b\b\b\b\b\b\b\b\b\b\b\b\b\b\b\b\b\b\b\b\b\b\b\b\b\b\b\b\b\b\b\b\b\b\b\b\b\b\b\b\b\b\b\b\b\b\b\b\b\b\b\b\b\b\b\b\b\b\b\b\b\b\b\b\b\b\b\b\b\b\b\b\b\b\r188/188 [==============================] - 9s 49ms/step - loss: 1.3022 - accuracy: 0.8696 - val_loss: 1.6250 - val_accuracy: 0.7685 - lr: 1.0000e-04\n",
            "Epoch 20/50\n",
            "187/188 [============================>.] - ETA: 0s - loss: 1.2784 - accuracy: 0.8793"
          ]
        },
        {
          "output_type": "stream",
          "name": "stderr",
          "text": [
            "WARNING:tensorflow:Can save best model only with val_acc available, skipping.\n"
          ]
        },
        {
          "output_type": "stream",
          "name": "stdout",
          "text": [
            "\b\b\b\b\b\b\b\b\b\b\b\b\b\b\b\b\b\b\b\b\b\b\b\b\b\b\b\b\b\b\b\b\b\b\b\b\b\b\b\b\b\b\b\b\b\b\b\b\b\b\b\b\b\b\b\b\b\b\b\b\b\b\b\b\b\b\b\b\b\b\b\b\b\b\b\b\b\b\b\b\b\b\b\b\r188/188 [==============================] - 9s 50ms/step - loss: 1.2785 - accuracy: 0.8793 - val_loss: 1.5942 - val_accuracy: 0.7813 - lr: 1.0000e-04\n",
            "Epoch 21/50\n",
            "187/188 [============================>.] - ETA: 0s - loss: 1.2258 - accuracy: 0.8952"
          ]
        },
        {
          "output_type": "stream",
          "name": "stderr",
          "text": [
            "WARNING:tensorflow:Can save best model only with val_acc available, skipping.\n"
          ]
        },
        {
          "output_type": "stream",
          "name": "stdout",
          "text": [
            "\b\b\b\b\b\b\b\b\b\b\b\b\b\b\b\b\b\b\b\b\b\b\b\b\b\b\b\b\b\b\b\b\b\b\b\b\b\b\b\b\b\b\b\b\b\b\b\b\b\b\b\b\b\b\b\b\b\b\b\b\b\b\b\b\b\b\b\b\b\b\b\b\b\b\b\b\b\b\b\b\b\b\b\b\r188/188 [==============================] - 9s 50ms/step - loss: 1.2257 - accuracy: 0.8952 - val_loss: 1.5740 - val_accuracy: 0.7853 - lr: 1.0000e-04\n",
            "Epoch 22/50\n",
            "187/188 [============================>.] - ETA: 0s - loss: 1.1927 - accuracy: 0.9051"
          ]
        },
        {
          "output_type": "stream",
          "name": "stderr",
          "text": [
            "WARNING:tensorflow:Can save best model only with val_acc available, skipping.\n"
          ]
        },
        {
          "output_type": "stream",
          "name": "stdout",
          "text": [
            "\b\b\b\b\b\b\b\b\b\b\b\b\b\b\b\b\b\b\b\b\b\b\b\b\b\b\b\b\b\b\b\b\b\b\b\b\b\b\b\b\b\b\b\b\b\b\b\b\b\b\b\b\b\b\b\b\b\b\b\b\b\b\b\b\b\b\b\b\b\b\b\b\b\b\b\b\b\b\b\b\b\b\b\b\r188/188 [==============================] - 9s 50ms/step - loss: 1.1926 - accuracy: 0.9052 - val_loss: 1.5451 - val_accuracy: 0.7877 - lr: 1.0000e-04\n",
            "Epoch 23/50\n",
            "187/188 [============================>.] - ETA: 0s - loss: 1.1705 - accuracy: 0.9081"
          ]
        },
        {
          "output_type": "stream",
          "name": "stderr",
          "text": [
            "WARNING:tensorflow:Can save best model only with val_acc available, skipping.\n"
          ]
        },
        {
          "output_type": "stream",
          "name": "stdout",
          "text": [
            "\b\b\b\b\b\b\b\b\b\b\b\b\b\b\b\b\b\b\b\b\b\b\b\b\b\b\b\b\b\b\b\b\b\b\b\b\b\b\b\b\b\b\b\b\b\b\b\b\b\b\b\b\b\b\b\b\b\b\b\b\b\b\b\b\b\b\b\b\b\b\b\b\b\b\b\b\b\b\b\b\b\b\b\b\r188/188 [==============================] - 9s 50ms/step - loss: 1.1708 - accuracy: 0.9080 - val_loss: 1.5367 - val_accuracy: 0.7918 - lr: 1.0000e-04\n",
            "Epoch 24/50\n",
            "188/188 [==============================] - ETA: 0s - loss: 1.1485 - accuracy: 0.9065"
          ]
        },
        {
          "output_type": "stream",
          "name": "stderr",
          "text": [
            "WARNING:tensorflow:Can save best model only with val_acc available, skipping.\n"
          ]
        },
        {
          "output_type": "stream",
          "name": "stdout",
          "text": [
            "\b\b\b\b\b\b\b\b\b\b\b\b\b\b\b\b\b\b\b\b\b\b\b\b\b\b\b\b\b\b\b\b\b\b\b\b\b\b\b\b\b\b\b\b\b\b\b\b\b\b\b\b\b\b\b\b\b\b\b\b\b\b\b\b\b\b\b\b\b\b\b\b\b\b\b\b\b\b\b\b\b\b\b\b\r188/188 [==============================] - 9s 50ms/step - loss: 1.1485 - accuracy: 0.9065 - val_loss: 1.5249 - val_accuracy: 0.7930 - lr: 1.0000e-04\n",
            "Epoch 25/50\n",
            "187/188 [============================>.] - ETA: 0s - loss: 1.1136 - accuracy: 0.9151"
          ]
        },
        {
          "output_type": "stream",
          "name": "stderr",
          "text": [
            "WARNING:tensorflow:Can save best model only with val_acc available, skipping.\n"
          ]
        },
        {
          "output_type": "stream",
          "name": "stdout",
          "text": [
            "\b\b\b\b\b\b\b\b\b\b\b\b\b\b\b\b\b\b\b\b\b\b\b\b\b\b\b\b\b\b\b\b\b\b\b\b\b\b\b\b\b\b\b\b\b\b\b\b\b\b\b\b\b\b\b\b\b\b\b\b\b\b\b\b\b\b\b\b\b\b\b\b\b\b\b\b\b\b\b\b\b\b\b\b\r188/188 [==============================] - 9s 50ms/step - loss: 1.1135 - accuracy: 0.9152 - val_loss: 1.5091 - val_accuracy: 0.7897 - lr: 1.0000e-04\n",
            "Epoch 26/50\n",
            "187/188 [============================>.] - ETA: 0s - loss: 1.1019 - accuracy: 0.9191"
          ]
        },
        {
          "output_type": "stream",
          "name": "stderr",
          "text": [
            "WARNING:tensorflow:Can save best model only with val_acc available, skipping.\n"
          ]
        },
        {
          "output_type": "stream",
          "name": "stdout",
          "text": [
            "\b\b\b\b\b\b\b\b\b\b\b\b\b\b\b\b\b\b\b\b\b\b\b\b\b\b\b\b\b\b\b\b\b\b\b\b\b\b\b\b\b\b\b\b\b\b\b\b\b\b\b\b\b\b\b\b\b\b\b\b\b\b\b\b\b\b\b\b\b\b\b\b\b\b\b\b\b\b\b\b\b\b\b\b\r188/188 [==============================] - 9s 49ms/step - loss: 1.1019 - accuracy: 0.9192 - val_loss: 1.4898 - val_accuracy: 0.7966 - lr: 1.0000e-04\n",
            "Epoch 27/50\n",
            "188/188 [==============================] - ETA: 0s - loss: 1.0741 - accuracy: 0.9184"
          ]
        },
        {
          "output_type": "stream",
          "name": "stderr",
          "text": [
            "WARNING:tensorflow:Can save best model only with val_acc available, skipping.\n"
          ]
        },
        {
          "output_type": "stream",
          "name": "stdout",
          "text": [
            "\b\b\b\b\b\b\b\b\b\b\b\b\b\b\b\b\b\b\b\b\b\b\b\b\b\b\b\b\b\b\b\b\b\b\b\b\b\b\b\b\b\b\b\b\b\b\b\b\b\b\b\b\b\b\b\b\b\b\b\b\b\b\b\b\b\b\b\b\b\b\b\b\b\b\b\b\b\b\b\b\b\b\b\b\r188/188 [==============================] - 9s 50ms/step - loss: 1.0741 - accuracy: 0.9184 - val_loss: 1.4695 - val_accuracy: 0.7950 - lr: 1.0000e-04\n",
            "Epoch 28/50\n",
            "188/188 [==============================] - ETA: 0s - loss: 1.0529 - accuracy: 0.9234"
          ]
        },
        {
          "output_type": "stream",
          "name": "stderr",
          "text": [
            "WARNING:tensorflow:Can save best model only with val_acc available, skipping.\n"
          ]
        },
        {
          "output_type": "stream",
          "name": "stdout",
          "text": [
            "\b\b\b\b\b\b\b\b\b\b\b\b\b\b\b\b\b\b\b\b\b\b\b\b\b\b\b\b\b\b\b\b\b\b\b\b\b\b\b\b\b\b\b\b\b\b\b\b\b\b\b\b\b\b\b\b\b\b\b\b\b\b\b\b\b\b\b\b\b\b\b\b\b\b\b\b\b\b\b\b\b\b\b\b\r188/188 [==============================] - 9s 49ms/step - loss: 1.0529 - accuracy: 0.9234 - val_loss: 1.4678 - val_accuracy: 0.7869 - lr: 1.0000e-04\n",
            "Epoch 29/50\n",
            "187/188 [============================>.] - ETA: 0s - loss: 1.0277 - accuracy: 0.9283"
          ]
        },
        {
          "output_type": "stream",
          "name": "stderr",
          "text": [
            "WARNING:tensorflow:Can save best model only with val_acc available, skipping.\n"
          ]
        },
        {
          "output_type": "stream",
          "name": "stdout",
          "text": [
            "\b\b\b\b\b\b\b\b\b\b\b\b\b\b\b\b\b\b\b\b\b\b\b\b\b\b\b\b\b\b\b\b\b\b\b\b\b\b\b\b\b\b\b\b\b\b\b\b\b\b\b\b\b\b\b\b\b\b\b\b\b\b\b\b\b\b\b\b\b\b\b\b\b\b\b\b\b\b\b\b\b\b\b\b\r188/188 [==============================] - 9s 50ms/step - loss: 1.0314 - accuracy: 0.9274 - val_loss: 1.4634 - val_accuracy: 0.7918 - lr: 1.0000e-04\n",
            "Epoch 30/50\n",
            "187/188 [============================>.] - ETA: 0s - loss: 1.0004 - accuracy: 0.9303"
          ]
        },
        {
          "output_type": "stream",
          "name": "stderr",
          "text": [
            "WARNING:tensorflow:Can save best model only with val_acc available, skipping.\n"
          ]
        },
        {
          "output_type": "stream",
          "name": "stdout",
          "text": [
            "\b\b\b\b\b\b\b\b\b\b\b\b\b\b\b\b\b\b\b\b\b\b\b\b\b\b\b\b\b\b\b\b\b\b\b\b\b\b\b\b\b\b\b\b\b\b\b\b\b\b\b\b\b\b\b\b\b\b\b\b\b\b\b\b\b\b\b\b\b\b\b\b\b\b\b\b\b\b\b\b\b\b\b\b\r188/188 [==============================] - 9s 50ms/step - loss: 1.0003 - accuracy: 0.9304 - val_loss: 1.4397 - val_accuracy: 0.7958 - lr: 1.0000e-04\n",
            "Epoch 31/50\n",
            "188/188 [==============================] - ETA: 0s - loss: 0.9900 - accuracy: 0.9321"
          ]
        },
        {
          "output_type": "stream",
          "name": "stderr",
          "text": [
            "WARNING:tensorflow:Can save best model only with val_acc available, skipping.\n"
          ]
        },
        {
          "output_type": "stream",
          "name": "stdout",
          "text": [
            "\b\b\b\b\b\b\b\b\b\b\b\b\b\b\b\b\b\b\b\b\b\b\b\b\b\b\b\b\b\b\b\b\b\b\b\b\b\b\b\b\b\b\b\b\b\b\b\b\b\b\b\b\b\b\b\b\b\b\b\b\b\b\b\b\b\b\b\b\b\b\b\b\b\b\b\b\b\b\b\b\b\b\b\b\r188/188 [==============================] - 9s 50ms/step - loss: 0.9900 - accuracy: 0.9321 - val_loss: 1.4195 - val_accuracy: 0.7982 - lr: 1.0000e-04\n",
            "Epoch 32/50\n",
            "187/188 [============================>.] - ETA: 0s - loss: 0.9821 - accuracy: 0.9276"
          ]
        },
        {
          "output_type": "stream",
          "name": "stderr",
          "text": [
            "WARNING:tensorflow:Can save best model only with val_acc available, skipping.\n"
          ]
        },
        {
          "output_type": "stream",
          "name": "stdout",
          "text": [
            "\b\b\b\b\b\b\b\b\b\b\b\b\b\b\b\b\b\b\b\b\b\b\b\b\b\b\b\b\b\b\b\b\b\b\b\b\b\b\b\b\b\b\b\b\b\b\b\b\b\b\b\b\b\b\b\b\b\b\b\b\b\b\b\b\b\b\b\b\b\b\b\b\b\b\b\b\b\b\b\b\b\b\b\b\r188/188 [==============================] - 9s 49ms/step - loss: 0.9820 - accuracy: 0.9277 - val_loss: 1.4100 - val_accuracy: 0.7905 - lr: 1.0000e-04\n",
            "Epoch 33/50\n",
            "188/188 [==============================] - ETA: 0s - loss: 0.9465 - accuracy: 0.9431"
          ]
        },
        {
          "output_type": "stream",
          "name": "stderr",
          "text": [
            "WARNING:tensorflow:Can save best model only with val_acc available, skipping.\n"
          ]
        },
        {
          "output_type": "stream",
          "name": "stdout",
          "text": [
            "\b\b\b\b\b\b\b\b\b\b\b\b\b\b\b\b\b\b\b\b\b\b\b\b\b\b\b\b\b\b\b\b\b\b\b\b\b\b\b\b\b\b\b\b\b\b\b\b\b\b\b\b\b\b\b\b\b\b\b\b\b\b\b\b\b\b\b\b\b\b\b\b\b\b\b\b\b\b\b\b\b\b\b\b\r188/188 [==============================] - 9s 49ms/step - loss: 0.9465 - accuracy: 0.9431 - val_loss: 1.3680 - val_accuracy: 0.8042 - lr: 1.0000e-04\n",
            "Epoch 34/50\n",
            "188/188 [==============================] - ETA: 0s - loss: 0.9250 - accuracy: 0.9437"
          ]
        },
        {
          "output_type": "stream",
          "name": "stderr",
          "text": [
            "WARNING:tensorflow:Can save best model only with val_acc available, skipping.\n"
          ]
        },
        {
          "output_type": "stream",
          "name": "stdout",
          "text": [
            "\b\b\b\b\b\b\b\b\b\b\b\b\b\b\b\b\b\b\b\b\b\b\b\b\b\b\b\b\b\b\b\b\b\b\b\b\b\b\b\b\b\b\b\b\b\b\b\b\b\b\b\b\b\b\b\b\b\b\b\b\b\b\b\b\b\b\b\b\b\b\b\b\b\b\b\b\b\b\b\b\b\b\b\b\r188/188 [==============================] - 9s 49ms/step - loss: 0.9250 - accuracy: 0.9437 - val_loss: 1.3739 - val_accuracy: 0.8034 - lr: 1.0000e-04\n",
            "Epoch 35/50\n",
            "187/188 [============================>.] - ETA: 0s - loss: 0.9156 - accuracy: 0.9405"
          ]
        },
        {
          "output_type": "stream",
          "name": "stderr",
          "text": [
            "WARNING:tensorflow:Can save best model only with val_acc available, skipping.\n"
          ]
        },
        {
          "output_type": "stream",
          "name": "stdout",
          "text": [
            "\b\b\b\b\b\b\b\b\b\b\b\b\b\b\b\b\b\b\b\b\b\b\b\b\b\b\b\b\b\b\b\b\b\b\b\b\b\b\b\b\b\b\b\b\b\b\b\b\b\b\b\b\b\b\b\b\b\b\b\b\b\b\b\b\b\b\b\b\b\b\b\b\b\b\b\b\b\b\b\b\b\b\b\b\r188/188 [==============================] - 9s 49ms/step - loss: 0.9155 - accuracy: 0.9406 - val_loss: 1.3740 - val_accuracy: 0.7990 - lr: 1.0000e-04\n",
            "Epoch 36/50\n",
            "187/188 [============================>.] - ETA: 0s - loss: 0.8954 - accuracy: 0.9422"
          ]
        },
        {
          "output_type": "stream",
          "name": "stderr",
          "text": [
            "WARNING:tensorflow:Can save best model only with val_acc available, skipping.\n"
          ]
        },
        {
          "output_type": "stream",
          "name": "stdout",
          "text": [
            "\b\b\b\b\b\b\b\b\b\b\b\b\b\b\b\b\b\b\b\b\b\b\b\b\b\b\b\b\b\b\b\b\b\b\b\b\b\b\b\b\b\b\b\b\b\b\b\b\b\b\b\b\b\b\b\b\b\b\b\b\b\b\b\b\b\b\b\b\b\b\b\b\b\b\b\b\b\b\b\b\b\b\b\b\r188/188 [==============================] - 9s 49ms/step - loss: 0.8954 - accuracy: 0.9422 - val_loss: 1.3511 - val_accuracy: 0.8042 - lr: 1.0000e-04\n",
            "Epoch 37/50\n",
            "187/188 [============================>.] - ETA: 0s - loss: 0.8786 - accuracy: 0.9447"
          ]
        },
        {
          "output_type": "stream",
          "name": "stderr",
          "text": [
            "WARNING:tensorflow:Can save best model only with val_acc available, skipping.\n"
          ]
        },
        {
          "output_type": "stream",
          "name": "stdout",
          "text": [
            "\b\b\b\b\b\b\b\b\b\b\b\b\b\b\b\b\b\b\b\b\b\b\b\b\b\b\b\b\b\b\b\b\b\b\b\b\b\b\b\b\b\b\b\b\b\b\b\b\b\b\b\b\b\b\b\b\b\b\b\b\b\b\b\b\b\b\b\b\b\b\b\b\b\b\b\b\b\b\b\b\b\b\b\b\r188/188 [==============================] - 9s 48ms/step - loss: 0.8788 - accuracy: 0.9446 - val_loss: 1.3486 - val_accuracy: 0.7962 - lr: 1.0000e-04\n",
            "Epoch 38/50\n",
            "187/188 [============================>.] - ETA: 0s - loss: 0.8698 - accuracy: 0.9433"
          ]
        },
        {
          "output_type": "stream",
          "name": "stderr",
          "text": [
            "WARNING:tensorflow:Can save best model only with val_acc available, skipping.\n"
          ]
        },
        {
          "output_type": "stream",
          "name": "stdout",
          "text": [
            "\b\b\b\b\b\b\b\b\b\b\b\b\b\b\b\b\b\b\b\b\b\b\b\b\b\b\b\b\b\b\b\b\b\b\b\b\b\b\b\b\b\b\b\b\b\b\b\b\b\b\b\b\b\b\b\b\b\b\b\b\b\b\b\b\b\b\b\b\b\b\b\b\b\b\b\b\b\b\b\b\b\b\b\b\r188/188 [==============================] - 9s 49ms/step - loss: 0.8700 - accuracy: 0.9431 - val_loss: 1.3413 - val_accuracy: 0.7986 - lr: 1.0000e-04\n",
            "Epoch 39/50\n",
            "187/188 [============================>.] - ETA: 0s - loss: 0.8511 - accuracy: 0.9472"
          ]
        },
        {
          "output_type": "stream",
          "name": "stderr",
          "text": [
            "WARNING:tensorflow:Can save best model only with val_acc available, skipping.\n"
          ]
        },
        {
          "output_type": "stream",
          "name": "stdout",
          "text": [
            "\b\b\b\b\b\b\b\b\b\b\b\b\b\b\b\b\b\b\b\b\b\b\b\b\b\b\b\b\b\b\b\b\b\b\b\b\b\b\b\b\b\b\b\b\b\b\b\b\b\b\b\b\b\b\b\b\b\b\b\b\b\b\b\b\b\b\b\b\b\b\b\b\b\b\b\b\b\b\b\b\b\b\b\b\r188/188 [==============================] - 9s 50ms/step - loss: 0.8513 - accuracy: 0.9471 - val_loss: 1.3366 - val_accuracy: 0.7998 - lr: 1.0000e-04\n",
            "Epoch 40/50\n",
            "187/188 [============================>.] - ETA: 0s - loss: 0.8300 - accuracy: 0.9519"
          ]
        },
        {
          "output_type": "stream",
          "name": "stderr",
          "text": [
            "WARNING:tensorflow:Can save best model only with val_acc available, skipping.\n"
          ]
        },
        {
          "output_type": "stream",
          "name": "stdout",
          "text": [
            "\b\b\b\b\b\b\b\b\b\b\b\b\b\b\b\b\b\b\b\b\b\b\b\b\b\b\b\b\b\b\b\b\b\b\b\b\b\b\b\b\b\b\b\b\b\b\b\b\b\b\b\b\b\b\b\b\b\b\b\b\b\b\b\b\b\b\b\b\b\b\b\b\b\b\b\b\b\b\b\b\b\b\b\b\r188/188 [==============================] - 9s 50ms/step - loss: 0.8300 - accuracy: 0.9519 - val_loss: 1.3467 - val_accuracy: 0.7897 - lr: 1.0000e-04\n",
            "Epoch 41/50\n",
            "188/188 [==============================] - ETA: 0s - loss: 0.8160 - accuracy: 0.9519"
          ]
        },
        {
          "output_type": "stream",
          "name": "stderr",
          "text": [
            "WARNING:tensorflow:Can save best model only with val_acc available, skipping.\n"
          ]
        },
        {
          "output_type": "stream",
          "name": "stdout",
          "text": [
            "\b\b\b\b\b\b\b\b\b\b\b\b\b\b\b\b\b\b\b\b\b\b\b\b\b\b\b\b\b\b\b\b\b\b\b\b\b\b\b\b\b\b\b\b\b\b\b\b\b\b\b\b\b\b\b\b\b\b\b\b\b\b\b\b\b\b\b\b\b\b\b\b\b\b\b\b\b\b\b\b\b\b\b\b\r188/188 [==============================] - 9s 49ms/step - loss: 0.8160 - accuracy: 0.9519 - val_loss: 1.2923 - val_accuracy: 0.8070 - lr: 1.0000e-04\n",
            "Epoch 42/50\n",
            "188/188 [==============================] - ETA: 0s - loss: 0.7980 - accuracy: 0.9516"
          ]
        },
        {
          "output_type": "stream",
          "name": "stderr",
          "text": [
            "WARNING:tensorflow:Can save best model only with val_acc available, skipping.\n"
          ]
        },
        {
          "output_type": "stream",
          "name": "stdout",
          "text": [
            "\b\b\b\b\b\b\b\b\b\b\b\b\b\b\b\b\b\b\b\b\b\b\b\b\b\b\b\b\b\b\b\b\b\b\b\b\b\b\b\b\b\b\b\b\b\b\b\b\b\b\b\b\b\b\b\b\b\b\b\b\b\b\b\b\b\b\b\b\b\b\b\b\b\b\b\b\b\b\b\b\b\b\b\b\r188/188 [==============================] - 9s 50ms/step - loss: 0.7980 - accuracy: 0.9516 - val_loss: 1.2798 - val_accuracy: 0.8102 - lr: 1.0000e-04\n",
            "Epoch 43/50\n",
            "188/188 [==============================] - ETA: 0s - loss: 0.7904 - accuracy: 0.9534"
          ]
        },
        {
          "output_type": "stream",
          "name": "stderr",
          "text": [
            "WARNING:tensorflow:Can save best model only with val_acc available, skipping.\n"
          ]
        },
        {
          "output_type": "stream",
          "name": "stdout",
          "text": [
            "\b\b\b\b\b\b\b\b\b\b\b\b\b\b\b\b\b\b\b\b\b\b\b\b\b\b\b\b\b\b\b\b\b\b\b\b\b\b\b\b\b\b\b\b\b\b\b\b\b\b\b\b\b\b\b\b\b\b\b\b\b\b\b\b\b\b\b\b\b\b\b\b\b\b\b\b\b\b\b\b\b\b\b\b\r188/188 [==============================] - 9s 50ms/step - loss: 0.7904 - accuracy: 0.9534 - val_loss: 1.2906 - val_accuracy: 0.8026 - lr: 1.0000e-04\n",
            "Epoch 44/50\n",
            "188/188 [==============================] - ETA: 0s - loss: 0.7790 - accuracy: 0.9539"
          ]
        },
        {
          "output_type": "stream",
          "name": "stderr",
          "text": [
            "WARNING:tensorflow:Can save best model only with val_acc available, skipping.\n"
          ]
        },
        {
          "output_type": "stream",
          "name": "stdout",
          "text": [
            "\b\b\b\b\b\b\b\b\b\b\b\b\b\b\b\b\b\b\b\b\b\b\b\b\b\b\b\b\b\b\b\b\b\b\b\b\b\b\b\b\b\b\b\b\b\b\b\b\b\b\b\b\b\b\b\b\b\b\b\b\b\b\b\b\b\b\b\b\b\b\b\b\b\b\b\b\b\b\b\b\b\b\b\b\r188/188 [==============================] - 9s 50ms/step - loss: 0.7790 - accuracy: 0.9539 - val_loss: 1.2569 - val_accuracy: 0.8030 - lr: 1.0000e-04\n",
            "Epoch 45/50\n",
            "188/188 [==============================] - ETA: 0s - loss: 0.7623 - accuracy: 0.9581"
          ]
        },
        {
          "output_type": "stream",
          "name": "stderr",
          "text": [
            "WARNING:tensorflow:Can save best model only with val_acc available, skipping.\n"
          ]
        },
        {
          "output_type": "stream",
          "name": "stdout",
          "text": [
            "\b\b\b\b\b\b\b\b\b\b\b\b\b\b\b\b\b\b\b\b\b\b\b\b\b\b\b\b\b\b\b\b\b\b\b\b\b\b\b\b\b\b\b\b\b\b\b\b\b\b\b\b\b\b\b\b\b\b\b\b\b\b\b\b\b\b\b\b\b\b\b\b\b\b\b\b\b\b\b\b\b\b\b\b\r188/188 [==============================] - 9s 50ms/step - loss: 0.7623 - accuracy: 0.9581 - val_loss: 1.2511 - val_accuracy: 0.8066 - lr: 1.0000e-04\n",
            "Epoch 46/50\n",
            "187/188 [============================>.] - ETA: 0s - loss: 0.7413 - accuracy: 0.9586"
          ]
        },
        {
          "output_type": "stream",
          "name": "stderr",
          "text": [
            "WARNING:tensorflow:Can save best model only with val_acc available, skipping.\n"
          ]
        },
        {
          "output_type": "stream",
          "name": "stdout",
          "text": [
            "\b\b\b\b\b\b\b\b\b\b\b\b\b\b\b\b\b\b\b\b\b\b\b\b\b\b\b\b\b\b\b\b\b\b\b\b\b\b\b\b\b\b\b\b\b\b\b\b\b\b\b\b\b\b\b\b\b\b\b\b\b\b\b\b\b\b\b\b\b\b\b\b\b\b\b\b\b\b\b\b\b\b\b\b\r188/188 [==============================] - 9s 49ms/step - loss: 0.7417 - accuracy: 0.9584 - val_loss: 1.2315 - val_accuracy: 0.8106 - lr: 1.0000e-04\n",
            "Epoch 47/50\n",
            "187/188 [============================>.] - ETA: 0s - loss: 0.7272 - accuracy: 0.9626"
          ]
        },
        {
          "output_type": "stream",
          "name": "stderr",
          "text": [
            "WARNING:tensorflow:Can save best model only with val_acc available, skipping.\n"
          ]
        },
        {
          "output_type": "stream",
          "name": "stdout",
          "text": [
            "\b\b\b\b\b\b\b\b\b\b\b\b\b\b\b\b\b\b\b\b\b\b\b\b\b\b\b\b\b\b\b\b\b\b\b\b\b\b\b\b\b\b\b\b\b\b\b\b\b\b\b\b\b\b\b\b\b\b\b\b\b\b\b\b\b\b\b\b\b\b\b\b\b\b\b\b\b\b\b\b\b\b\b\b\r188/188 [==============================] - 9s 49ms/step - loss: 0.7279 - accuracy: 0.9624 - val_loss: 1.2347 - val_accuracy: 0.8110 - lr: 1.0000e-04\n",
            "Epoch 48/50\n",
            "187/188 [============================>.] - ETA: 0s - loss: 0.7214 - accuracy: 0.9591"
          ]
        },
        {
          "output_type": "stream",
          "name": "stderr",
          "text": [
            "WARNING:tensorflow:Can save best model only with val_acc available, skipping.\n"
          ]
        },
        {
          "output_type": "stream",
          "name": "stdout",
          "text": [
            "\b\b\b\b\b\b\b\b\b\b\b\b\b\b\b\b\b\b\b\b\b\b\b\b\b\b\b\b\b\b\b\b\b\b\b\b\b\b\b\b\b\b\b\b\b\b\b\b\b\b\b\b\b\b\b\b\b\b\b\b\b\b\b\b\b\b\b\b\b\b\b\b\b\b\b\b\b\b\b\b\b\b\b\b\r188/188 [==============================] - 9s 49ms/step - loss: 0.7213 - accuracy: 0.9591 - val_loss: 1.2353 - val_accuracy: 0.8034 - lr: 1.0000e-04\n",
            "Epoch 49/50\n",
            "187/188 [============================>.] - ETA: 0s - loss: 0.7048 - accuracy: 0.9644"
          ]
        },
        {
          "output_type": "stream",
          "name": "stderr",
          "text": [
            "WARNING:tensorflow:Can save best model only with val_acc available, skipping.\n"
          ]
        },
        {
          "output_type": "stream",
          "name": "stdout",
          "text": [
            "\b\b\b\b\b\b\b\b\b\b\b\b\b\b\b\b\b\b\b\b\b\b\b\b\b\b\b\b\b\b\b\b\b\b\b\b\b\b\b\b\b\b\b\b\b\b\b\b\b\b\b\b\b\b\b\b\b\b\b\b\b\b\b\b\b\b\b\b\b\b\b\b\b\b\b\b\b\b\b\b\b\b\b\b\r188/188 [==============================] - 9s 50ms/step - loss: 0.7057 - accuracy: 0.9638 - val_loss: 1.2152 - val_accuracy: 0.8150 - lr: 1.0000e-04\n",
            "Epoch 50/50\n",
            "187/188 [============================>.] - ETA: 0s - loss: 0.6869 - accuracy: 0.9661"
          ]
        },
        {
          "output_type": "stream",
          "name": "stderr",
          "text": [
            "WARNING:tensorflow:Can save best model only with val_acc available, skipping.\n"
          ]
        },
        {
          "output_type": "stream",
          "name": "stdout",
          "text": [
            "\b\b\b\b\b\b\b\b\b\b\b\b\b\b\b\b\b\b\b\b\b\b\b\b\b\b\b\b\b\b\b\b\b\b\b\b\b\b\b\b\b\b\b\b\b\b\b\b\b\b\b\b\b\b\b\b\b\b\b\b\b\b\b\b\b\b\b\b\b\b\b\b\b\b\b\b\b\b\b\b\b\b\b\b\r188/188 [==============================] - 9s 49ms/step - loss: 0.6880 - accuracy: 0.9658 - val_loss: 1.1942 - val_accuracy: 0.8134 - lr: 1.0000e-04\n"
          ]
        }
      ],
      "source": [
        "import tensorflow as tf\n",
        "from google.colab import drive\n",
        "drive.mount('/content/drive')\n",
        "\n",
        "import numpy as np # linear algebra\n",
        "import pandas as pd # data processing, CSV file I/O (e.g. pd.read_csv)\n",
        "import os\n",
        "import json\n",
        "import librosa\n",
        "import matplotlib.pyplot as plt\n",
        "from sklearn.model_selection import train_test_split\n",
        "import tensorflow as tf\n",
        "import math\n",
        "\n",
        "\n",
        "SOURCE_PATH = '/content/drive/MyDrive/Data/genres_original/'\n",
        "JSON_PATH = '/content/drive/MyDrive/data.json'\n",
        "SAMPLE_RATE = 22050\n",
        "TRACK_DURATION = 30 # measured in seconds\n",
        "SAMPLES_PER_TRACK = SAMPLE_RATE * TRACK_DURATION\n",
        "\n",
        "def load_data(json_path):\n",
        "\n",
        "    with open(json_path, 'r') as f:\n",
        "        data = json.load(f)\n",
        "    f.close()\n",
        "\n",
        "    # Let's load our data into numpy arrays for TensorFlow compatibility.\n",
        "    X = np.array(data[\"mfcc\"])\n",
        "    y = np.array(data[\"labels\"])\n",
        "\n",
        "    return X, y\n",
        "\n",
        "def prepare_datasets(inputs, targets, split_size,validataion_size):\n",
        "\n",
        "    # Creating a validation set and a test set.\n",
        "    inputs_train, inputs_val, targets_train, targets_val = train_test_split(inputs, targets, test_size=split_size)\n",
        "    inputs_train, inputs_test, targets_train, targets_test = train_test_split(inputs_train, targets_train, test_size=validataion_size)\n",
        "\n",
        "    # Our CNN model expects 3D input shape.\n",
        "    inputs_train = inputs_train[..., np.newaxis]\n",
        "    inputs_val = inputs_val[..., np.newaxis]\n",
        "    inputs_test = inputs_test[..., np.newaxis]\n",
        "\n",
        "    return inputs_train, inputs_val, inputs_test, targets_train, targets_val, targets_test\n",
        "\n",
        "def predict(model, X, y):\n",
        "    \"\"\"Predict a single sample using the trained model\n",
        "\n",
        "    :param model: Trained classifier\n",
        "    :param X: Input data\n",
        "    :param y (int): Target\n",
        "    \"\"\"\n",
        "\n",
        "    # add a dimension to input data for sample - model.predict() expects a 4d array in this case\n",
        "    X = X[np.newaxis, ...] # array shape (1, 130, 13, 1)\n",
        "\n",
        "    # perform prediction\n",
        "    prediction = model.predict(X)\n",
        "\n",
        "    # get index with max value\n",
        "    predicted_index = np.argmax(prediction, axis=1)\n",
        "\n",
        "    print(\"Target: {}, Predicted label: {}\".format(y, predicted_index))\n",
        "\n",
        "def plot_performance(hist):\n",
        "\n",
        "    acc = hist.history['acc']\n",
        "    val_acc = hist.history['val_acc']\n",
        "    loss = hist.history['loss']\n",
        "    val_loss = hist.history['val_loss']\n",
        "\n",
        "    epochs = range(len(acc))\n",
        "\n",
        "    plt.plot(epochs, acc, 'r', label='Training accuracy')\n",
        "    plt.plot(epochs, val_acc, 'b', label='Validation accuracy')\n",
        "    plt.title('Training and validation accuracy')\n",
        "    plt.legend()\n",
        "    plt.figure()\n",
        "\n",
        "    plt.plot(epochs, loss, 'r', label='Training Loss')\n",
        "    plt.plot(epochs, val_loss, 'b', label='Validation Loss')\n",
        "    plt.title('Training and validation loss')\n",
        "    plt.legend()\n",
        "\n",
        "    plt.show()\n",
        "inputs, targets = load_data(json_path=JSON_PATH)\n",
        "Xtrain, Xval, Xtest, ytrain, yval, ytest = prepare_datasets(inputs, targets, 0.25,0.2)\n",
        "from tensorflow.keras.callbacks import EarlyStopping, ModelCheckpoint, ReduceLROnPlateau\n",
        "\n",
        "def design_model2(input_shape):\n",
        "\n",
        "    model = tf.keras.models.Sequential([\n",
        "\n",
        "        tf.keras.layers.Conv2D(128, (3,3), activation='relu', input_shape=input_shape, kernel_regularizer=tf.keras.regularizers.l2(0.0005)),\n",
        "        tf.keras.layers.MaxPooling2D((3,3), strides=(2,2), padding='same'),\n",
        "        tf.keras.layers.BatchNormalization(),\n",
        "        tf.keras.layers.Dropout(0.2),  # reduced dropout rate for early layers\n",
        "\n",
        "        tf.keras.layers.Conv2D(256, (3,3), activation='relu', kernel_regularizer=tf.keras.regularizers.l2(0.0005)),\n",
        "        tf.keras.layers.MaxPooling2D((3,3), strides=(2,2), padding='same'),\n",
        "        tf.keras.layers.BatchNormalization(),\n",
        "        tf.keras.layers.Dropout(0.3),  # adjusted dropout\n",
        "\n",
        "        tf.keras.layers.Conv2D(256, (2,2), activation='relu', kernel_regularizer=tf.keras.regularizers.l2(0.0005)),\n",
        "        tf.keras.layers.MaxPooling2D((2,2), strides=(2,2), padding='same'),\n",
        "        tf.keras.layers.BatchNormalization(),\n",
        "        tf.keras.layers.Dropout(0.4),\n",
        "\n",
        "        tf.keras.layers.Flatten(),\n",
        "        tf.keras.layers.Dense(512, activation='relu', kernel_regularizer=tf.keras.regularizers.l2(0.0005)),\n",
        "        tf.keras.layers.Dropout(0.5),\n",
        "\n",
        "        tf.keras.layers.Dense(10, activation='softmax')\n",
        "    ])\n",
        "\n",
        "    model.compile(optimizer=tf.keras.optimizers.Adam(learning_rate=0.001),\n",
        "                  loss='sparse_categorical_crossentropy',\n",
        "                  metrics=['accuracy'])\n",
        "\n",
        "    return model\n",
        "\n",
        "# Example usage\n",
        "input_shape = (130, 13, 1)\n",
        "model = design_model2(input_shape)\n",
        "model.summary()\n",
        "\n",
        "# Assuming you have Xtrain, ytrain, Xval, yval already loaded\n",
        "# One-hot encode the labels\n",
        "# ytrain_one_hot = tf.keras.utils.to_categorical(ytrain, num_classes=10)\n",
        "# yval_one_hot = tf.keras.utils.to_categorical(yval, num_classes=10)\n",
        "\n",
        "# Set up callbacks\n",
        "early_stopping = EarlyStopping(monitor='val_loss', patience=10, restore_best_weights=True)\n",
        "model_checkpoint = ModelCheckpoint('best_model.keras', save_best_only=True, monitor='val_acc', mode='max')\n",
        "reduce_lr = ReduceLROnPlateau(monitor='val_loss', factor=0.1, patience=5, min_lr=1e-6)\n",
        "\n",
        "# Train the model\n",
        "history = model.fit(Xtrain, ytrain, validation_data=(Xval, yval), epochs=50, batch_size=32,\n",
        "                    callbacks=[early_stopping, model_checkpoint, reduce_lr])\n"
      ]
    },
    {
      "cell_type": "code",
      "source": [
        "model.save('final_model.keras')\n",
        "# Save only the weights\n",
        "model.save_weights('model_weights.h5')\n",
        "from tensorflow.keras.utils import plot_model\n",
        "# Evaluate the model on the test data\n",
        "test_loss, test_accuracy = model.evaluate(Xtest, ytest, verbose=2)\n",
        "print(\"Test Accuracy: {:.2f}%\".format(test_accuracy * 100))\n"
      ],
      "metadata": {
        "colab": {
          "base_uri": "https://localhost:8080/"
        },
        "id": "iKDY120TeFWG",
        "outputId": "5fb66c6e-bb27-47a3-f07c-94597d3322c6"
      },
      "execution_count": null,
      "outputs": [
        {
          "output_type": "stream",
          "name": "stdout",
          "text": [
            "You must install pydot (`pip install pydot`) and install graphviz (see instructions at https://graphviz.gitlab.io/download/) for plot_model to work.\n",
            "47/47 - 1s - loss: 1.2251 - accuracy: 0.7951 - 504ms/epoch - 11ms/step\n",
            "Test Accuracy: 79.51%\n"
          ]
        }
      ]
    },
    {
      "cell_type": "code",
      "source": [
        "# Save the model in the TensorFlow SavedModel format\n",
        "model.save('my_model.h5')\n"
      ],
      "metadata": {
        "colab": {
          "base_uri": "https://localhost:8080/"
        },
        "id": "pcPbimUzinKJ",
        "outputId": "7d7358b8-3f42-4a54-e7dc-629911defbd1"
      },
      "execution_count": null,
      "outputs": [
        {
          "output_type": "stream",
          "name": "stderr",
          "text": [
            "/usr/local/lib/python3.10/dist-packages/keras/src/engine/training.py:3103: UserWarning: You are saving your model as an HDF5 file via `model.save()`. This file format is considered legacy. We recommend using instead the native Keras format, e.g. `model.save('my_model.keras')`.\n",
            "  saving_api.save_model(\n"
          ]
        }
      ]
    },
    {
      "cell_type": "code",
      "source": [
        "pip install graphviz"
      ],
      "metadata": {
        "colab": {
          "base_uri": "https://localhost:8080/"
        },
        "id": "lEpDulCnfuOg",
        "outputId": "ed0856b9-ec97-4822-e750-809d5f11b576"
      },
      "execution_count": null,
      "outputs": [
        {
          "output_type": "stream",
          "name": "stdout",
          "text": [
            "Requirement already satisfied: graphviz in /usr/local/lib/python3.10/dist-packages (0.20.3)\n"
          ]
        }
      ]
    },
    {
      "cell_type": "code",
      "source": [
        "!apt-get -qq install -y graphviz && pip install pydot\n",
        "import pydot"
      ],
      "metadata": {
        "colab": {
          "base_uri": "https://localhost:8080/"
        },
        "id": "uVzJFOz3gUtE",
        "outputId": "0b4ca1f8-bb65-4090-ed18-0818d4fbd8a3"
      },
      "execution_count": null,
      "outputs": [
        {
          "output_type": "stream",
          "name": "stdout",
          "text": [
            "Requirement already satisfied: pydot in /usr/local/lib/python3.10/dist-packages (3.0.1)\n",
            "Requirement already satisfied: pyparsing>=3.0.9 in /usr/local/lib/python3.10/dist-packages (from pydot) (3.1.4)\n"
          ]
        }
      ]
    },
    {
      "cell_type": "code",
      "source": [
        "def plot_performance(hist):\n",
        "    # Access history keys to handle the case where 'accuracy' might be used instead of 'acc'\n",
        "    acc = hist.history.get('accuracy')\n",
        "    val_acc = hist.history.get('val_accuracy')\n",
        "    loss = hist.history.get('loss')\n",
        "    val_loss = hist.history.get('val_loss')\n",
        "\n",
        "    epochs = range(len(loss))  # Number of epochs\n",
        "\n",
        "    # Plot accuracy\n",
        "    if acc and val_acc:\n",
        "        plt.plot(epochs, acc, 'r', label='Training accuracy')\n",
        "        plt.plot(epochs, val_acc, 'b', label='Validation accuracy')\n",
        "        plt.title('Training and validation accuracy')\n",
        "        plt.legend()\n",
        "        plt.figure()\n",
        "\n",
        "    # Plot loss\n",
        "    plt.plot(epochs, loss, 'r', label='Training Loss')\n",
        "    plt.plot(epochs, val_loss, 'b', label='Validation Loss')\n",
        "    plt.title('Training and validation loss')\n",
        "    plt.legend()\n",
        "\n",
        "    plt.show()\n"
      ],
      "metadata": {
        "id": "GXqdBsDVhNwM"
      },
      "execution_count": null,
      "outputs": []
    },
    {
      "cell_type": "code",
      "source": [
        "# prompt: plot the graph of train_acc and val_acc\n",
        "\n",
        "plot_performance(history)\n"
      ],
      "metadata": {
        "colab": {
          "base_uri": "https://localhost:8080/",
          "height": 887
        },
        "id": "YqSwi7SIg8HZ",
        "outputId": "801f72a7-d983-4ac3-8708-6ee809c6e876"
      },
      "execution_count": null,
      "outputs": [
        {
          "output_type": "display_data",
          "data": {
            "text/plain": [
              "<Figure size 640x480 with 1 Axes>"
            ],
            "image/png": "[encoded data removed]"
          },
          "metadata": {}
        },
        {
          "output_type": "display_data",
          "data": {
            "text/plain": [
              "<Figure size 640x480 with 1 Axes>"
            ],
            "image/png": "[encoded data removed]"
          },
          "metadata": {}
        }
      ]
    }
  ]
}